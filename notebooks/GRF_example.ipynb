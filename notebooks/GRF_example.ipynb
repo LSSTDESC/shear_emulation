{
 "cells": [
  {
   "cell_type": "code",
   "execution_count": null,
   "id": "9873ab18-9591-472a-b4fa-5f64a9b13410",
   "metadata": {},
   "outputs": [],
   "source": [
    "%matplotlib inline  \n",
    "\n",
    "import numpy as np\n",
    "import healpy as hp\n",
    "import matplotlib.pyplot as plt\n",
    "\n",
    "# Import the NaMaster python wrapper\n",
    "from astropy.io import fits\n",
    "from astropy.table import Table\n",
    "import treecorr\n",
    "import os\n",
    "\n",
    "\n",
    "import math\n",
    "from scipy.optimize import curve_fit\n",
    "\n",
    "from scipy import optimize\n",
    "import scipy\n",
    "\n",
    "from os import listdir\n",
    "from os.path import isfile, join\n",
    "\n",
    "from camb import correlations\n",
    "\n",
    "import pickle\n",
    "\n"
   ]
  },
  {
   "cell_type": "code",
   "execution_count": null,
   "id": "42cc46da",
   "metadata": {},
   "outputs": [],
   "source": [
    "def Cl2maps(Cl, nside, ell_factor = False):\n",
    "    '''\n",
    "    Generate Gaussian Random Field for one Cl. \n",
    "    Cl: 1-d array, for ell value from 1-3*N\n",
    "    nside: nside of the generated map\n",
    "    ell_factor: if your Cl has ell(ell+1)/2pi in front, need to set this to True\n",
    "    '''\n",
    "    ell_int = np.arange(1,len(Cl)+1,1)\n",
    "    \n",
    "    if ell_factor:\n",
    "        Cl = np.divide(np.divide(Cl,ell_int),(ell_int+1))*2 * np.pi\n",
    "        \n",
    "    alms = hp.sphtfunc.synalm(Cl)\n",
    "    maps = hp.sphtfunc.alm2map(alms, nside, pol = False)\n",
    "    \n",
    "    return maps\n",
    "    \n",
    "    \n",
    "    \n",
    "    "
   ]
  },
  {
   "cell_type": "code",
   "execution_count": null,
   "id": "96f708e0",
   "metadata": {},
   "outputs": [],
   "source": [
    "\n",
    "def powlaw(x, a, b) :\n",
    "    '''\n",
    "    Power law fitting funtion, b needs to be non-negative, otherwise blows up at large theta\n",
    "    x: theta, in [degree]\n",
    "    '''\n",
    "    return a * np.power(x, -b)\n",
    "\n",
    "def powtan(x, a, b):\n",
    "    '''\n",
    "    Power law * tangential function cutoff at a constant theta. \n",
    "    x: theta, in [degree]\n",
    "    '''\n",
    "    \n",
    "    cutoff = 1.7\n",
    "    \n",
    "    return a* np.power(x, -b) * ((-np.arctan(x - cutoff ))/np.pi + 1/2 )\n",
    "\n",
    "def twoexp(x, amp1, scale1, amp2, scale2):\n",
    "    '''\n",
    "    amp1*exp(-scale1*x)+amp2*exp(-scale2*x)\n",
    "    x: theta, in [degree]\n",
    "    '''\n",
    "    return amp1*np.exp(-scale1*x)+amp2*np.exp(-scale2*x)\n",
    "\n",
    "def oneexp(x, amp, scale):\n",
    "    '''\n",
    "    Exponential law\n",
    "    x: theta, in [degree]\n",
    "    '''\n",
    "    return amp*np.exp(-scale*x)\n",
    "\n",
    "def curve_fit_log(xdata, ydata, method) :\n",
    "    \n",
    "    #print xdata_log, ydata_log\n",
    "    if method == \"powlaw\":\n",
    "        popt, pcov = curve_fit(powlaw, xdata, ydata , maxfev = 10000,\n",
    "                              bounds = ((-np.inf, 0.0), (np.inf, np.inf)))\n",
    "    elif method == \"powtan\":\n",
    "        popt, pcov = curve_fit(powtan, xdata, ydata , maxfev = 10000,\n",
    "                              bounds = ((-np.inf, 0.0), (np.inf, np.inf)))\n",
    "    elif method == \"twoexp\":\n",
    "        popt, pcov = curve_fit(twoexp, xdata, ydata , maxfev = 10000,\n",
    "                              bounds=((-np.inf,0.0,-np.inf,0.0), (np.inf,np.inf,np.inf,np.inf)))\n",
    "    elif method == \"oneexp\":\n",
    "        popt, pcov = curve_fit(oneexp, xdata, ydata, maxfev = 10000, bounds = ((-np.inf, 0.0), (np.inf, np.inf)))\n",
    "    return popt, pcov\n",
    "\n",
    "    "
   ]
  },
  {
   "cell_type": "code",
   "execution_count": null,
   "id": "f4947b82",
   "metadata": {},
   "outputs": [],
   "source": [
    "def find_Cl(r, xi,method):\n",
    "    '''\n",
    "    Compute Cl given discrete correlation funciton\n",
    "    r: theta, in arcmin\n",
    "    xi: must be kappa-kappa correlation\n",
    "    method: method for the fitting function\n",
    "    '''\n",
    "    \n",
    "    \n",
    "    try:\n",
    "        popt,_ = curve_fit_log(r/60.0, xi, method)\n",
    "    except RuntimeError:\n",
    "        print(\"fitting failed, change to xi=0\")\n",
    "        popt,_ = curve_fit_log(r/60.0, np.zeros(len(r)), method)\n",
    "\n",
    "        \n",
    "    # set up the theta list from 0-180 degree, and its cosine\n",
    "    theta_list = np.arange(0.01,180,0.001)\n",
    "    cosine_list = np.cos(theta_list/180.0*np.pi)\n",
    "\n",
    "    # compute the best-fit xi in full range\n",
    "    corr_list = []\n",
    "    for theta in theta_list:\n",
    "        if method ==\"powlaw\":\n",
    "            corr_list.append(powlaw(theta,*popt))\n",
    "        elif method ==\"powtan\":\n",
    "            corr_list.append(powtan(theta,*popt))\n",
    "        elif method ==\"twoexp\":\n",
    "            corr_list.append(twoexp(theta,*popt))\n",
    "        elif method ==\"oneexp\":\n",
    "            corr_list.append(oneexp(theta,*popt))\n",
    "    theta_rad = theta_list/180.0*np.pi\n",
    "    corr_list = np.array(corr_list)\n",
    "    weight = np.sin(np.array(theta_rad))*np.pi/corr_list.shape[0]\n",
    "\n",
    "    corr_array = np.array([corr_list,corr_list,corr_list,corr_list]).T\n",
    "    \n",
    "    \n",
    "    #Hankel transform\n",
    "    Cl_camb = correlations.corr2cl(corr_array, cosine_list, weight, ell_max)\n",
    "    \n",
    "    \n",
    "    \n",
    "    #return ell_list_camb (1-3nside), Cl * ell * (ell+1)/ 2pi, best fit parameters\n",
    "    return ell_list_camb[1:], Cl_camb[:,0][1:], popt"
   ]
  },
  {
   "cell_type": "code",
   "execution_count": null,
   "id": "b45d83ab",
   "metadata": {},
   "outputs": [],
   "source": []
  },
  {
   "cell_type": "markdown",
   "id": "edde4905",
   "metadata": {},
   "source": [
    "# Example if you already have Cl from 1 to 3NSIDE\n",
    "\n",
    "## Simply call Cl2maps()\n"
   ]
  },
  {
   "cell_type": "code",
   "execution_count": null,
   "id": "28d1f5a1",
   "metadata": {},
   "outputs": [],
   "source": [
    "nside = 1024\n",
    "\n",
    "map_ = Cl2maps(Cl,nside)\n",
    "\n",
    "\n"
   ]
  },
  {
   "cell_type": "code",
   "execution_count": null,
   "id": "33d41768-0ca4-4fe8-8e13-04a4a6a5af65",
   "metadata": {},
   "outputs": [],
   "source": [
    "hp.mollzoom(map_, title = 'generated 1d map')"
   ]
  },
  {
   "cell_type": "code",
   "execution_count": null,
   "id": "2ff01d52",
   "metadata": {},
   "outputs": [],
   "source": []
  },
  {
   "cell_type": "markdown",
   "id": "ec0850bb",
   "metadata": {},
   "source": [
    "# Example if you already have xi from 1 to 200 arcmin\n",
    "\n",
    "## 1. Visualize, decide which fitting function to use\n",
    "\n",
    "## 2. find_Cl()\n",
    "\n",
    "## 3. Cl2maps()\n"
   ]
  },
  {
   "cell_type": "code",
   "execution_count": null,
   "id": "dbdf63dc",
   "metadata": {},
   "outputs": [],
   "source": [
    "#suppose our correlation function xi has theta = r"
   ]
  },
  {
   "cell_type": "code",
   "execution_count": null,
   "id": "1dea40e9",
   "metadata": {},
   "outputs": [],
   "source": [
    "nside = 1024\n",
    "\n",
    "ell_array, Cl_camb, popt = find_Cl(r, xi, \"oneexp\")\n",
    "\n",
    "map_ = Cl2maps(Cl_camb,nside, ell_factor = True)\n",
    "\n"
   ]
  },
  {
   "cell_type": "code",
   "execution_count": null,
   "id": "506431a3",
   "metadata": {},
   "outputs": [],
   "source": [
    "hp.mollzoom(map_, title = 'generated 1d map')"
   ]
  },
  {
   "cell_type": "code",
   "execution_count": null,
   "id": "2bba9d52",
   "metadata": {},
   "outputs": [],
   "source": []
  },
  {
   "cell_type": "code",
   "execution_count": null,
   "id": "217fdbb8",
   "metadata": {},
   "outputs": [],
   "source": []
  },
  {
   "cell_type": "markdown",
   "id": "67e4e5fb",
   "metadata": {},
   "source": [
    "## Extra credits for measuring the correlation function of the generated maps, see if they matches your original input!"
   ]
  },
  {
   "cell_type": "code",
   "execution_count": null,
   "id": "3e758080-df6b-4539-b602-e89b6657c428",
   "metadata": {},
   "outputs": [],
   "source": [
    "##crop out a subset of the map, otherwise use too much memory\n",
    "\n",
    "nside = 1024\n",
    "\n",
    "(theta,phi) = hp.pixelfunc.pix2ang(nside,np.arange(0,hp.nside2npix(nside),1))\n",
    "dec_map = theta*180.0/np.pi - 90.0\n",
    "ra_map = phi*180.0/np.pi\n",
    "\n",
    "index1 = dec_map>-20.0\n",
    "index2 = dec_map<20.0\n",
    "index3 = ra_map>-20.0\n",
    "index4 = ra_map<20.0\n",
    "\n",
    "index_total = index1 * index2 * index3 * index4\n",
    "new_dec_map = dec_map[index_total!=0.0]\n",
    "new_ra_map = ra_map[index_total!=0.0]\n",
    "new_maps = maps[aindex_total!=0]\n"
   ]
  },
  {
   "cell_type": "code",
   "execution_count": null,
   "id": "81563b9c-5bd1-43e9-b306-3dbd5d2f71f3",
   "metadata": {},
   "outputs": [],
   "source": [
    "\n",
    "# Store the cutout maps in an temprary directory\n",
    "\n",
    "k_map_table = Table([new_ra_map,new_dec_map,new_maps, names=('ra', 'dec','kappa')])\n",
    "write_table(k_map_table,'tmp/map_kappa.fits')\n",
    "cat = treecorr.Catalog('tmp/map_kappa.fits', ra_col='ra', dec_col='dec', ra_units='deg', dec_units='deg', \n",
    "                       k_col='kappa', npatch = 10)\n",
    "\n",
    "# Measure its auto correlation function\n",
    "\n",
    "nbins = 20\n",
    "\n",
    "\n",
    "\n",
    "kk_ij = treecorr.KKCorrelation(min_sep=1, max_sep=200, nbins=nbins, sep_units='arcmin')\n",
    "\n",
    "kk_ij.process(cat, cat)\n",
    "\n",
    "xi_maps = kk_ij.xi\n",
    "\n",
    "xi_sig_maps = np.sqrt(kk_ij.varxi)\n",
    "\n",
    "r_map = np.exp(kk_ij.meanlogr) \n",
    "        \n",
    "        "
   ]
  },
  {
   "cell_type": "code",
   "execution_count": null,
   "id": "a835bb7a-6232-4223-a641-b0ba9c4f235c",
   "metadata": {},
   "outputs": [],
   "source": [
    "plt.figure(figsize = (8,6))\n",
    "\n",
    "plt.plot(r,xi, fmt = '.', label = 'Input correlation function')\n",
    "plt.plot(r_map, xi_maps,  label = 'Map correlation function')\n",
    "plt.legend()\n",
    "\n",
    "plt.xlabel('$\\theta$ [arcmin]')\n",
    "plt.ylabel('$\\xi$')\n",
    "plt.xscale('log')\n",
    "plt.show()"
   ]
  },
  {
   "cell_type": "code",
   "execution_count": null,
   "id": "15de0dda-9c2c-48f9-b0f8-02373a289394",
   "metadata": {},
   "outputs": [],
   "source": []
  }
 ],
 "metadata": {
  "kernelspec": {
   "display_name": "yoda",
   "language": "python",
   "name": "yoda"
  },
  "language_info": {
   "codemirror_mode": {
    "name": "ipython",
    "version": 3
   },
   "file_extension": ".py",
   "mimetype": "text/x-python",
   "name": "python",
   "nbconvert_exporter": "python",
   "pygments_lexer": "ipython3",
   "version": "3.9.6"
  }
 },
 "nbformat": 4,
 "nbformat_minor": 5
}
